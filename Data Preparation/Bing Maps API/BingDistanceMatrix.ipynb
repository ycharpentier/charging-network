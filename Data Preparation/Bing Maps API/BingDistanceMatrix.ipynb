{
  "cells": [
    {
      "cell_type": "markdown",
      "metadata": {},
      "source": [
        "# Introduction\n",
        "\n",
        "We use this paper as support in order to prepare data sets: \n",
        "\n",
        "\n",
        "Yu, H., Sun, X., Thordarson, D.S., Solbakken, K., Solvang, W.D. (2024). A Network-Based Set Covering Model for Charging Station Location Problem: A Case Study in Norway. In: Wang, Y., Yu, T., Wang, K. (eds) Advanced Manufacturing and Automation XIII. IWAMA 2023. Lecture Notes in Electrical Engineering, vol 1154. Springer, Singapore. https://doi.org/10.1007/978-981-97-0665-5_26"
      ]
    },
    {
      "cell_type": "code",
      "execution_count": 23,
      "metadata": {
        "id": "0zsCFT_TG0CA"
      },
      "outputs": [],
      "source": [
        "import urllib.request\n",
        "import requests\n",
        "import json\n",
        "import numpy as np"
      ]
    },
    {
      "cell_type": "code",
      "execution_count": 24,
      "metadata": {
        "id": "ZMglYu4MG3w-"
      },
      "outputs": [],
      "source": [
        "api_key = \"API_KEY\""
      ]
    },
    {
      "cell_type": "markdown",
      "metadata": {
        "id": "1pcSK82YVXdY"
      },
      "source": [
        "# 1. Set up data and convert to JSON\n",
        "\n",
        "https://learn.microsoft.com/en-us/bingmaps/rest-services/routes/calculate-a-distance-matrix?redirectedfrom=MSDN\n",
        "\n",
        "(link to API documentation)"
      ]
    },
    {
      "cell_type": "code",
      "execution_count": 25,
      "metadata": {
        "colab": {
          "base_uri": "https://localhost:8080/"
        },
        "id": "Qd0LfAxpKk8Y",
        "outputId": "c0bee93f-6250-4235-a474-ba6540e884c1"
      },
      "outputs": [],
      "source": [
        "data = {\n",
        "    \"origins\": [\n",
        "    {\"latitude\": 68.57, \"longitude\": 14.91},\n",
        "    {\"latitude\": 68.70, \"longitude\": 15.42},\n",
        "    {\"latitude\": 68.62, \"longitude\": 15.65},\n",
        "    {\"latitude\": 68.53, \"longitude\": 15.73},\n",
        "    {\"latitude\": 68.42, \"longitude\": 15.99},\n",
        "    {\"latitude\": 68.56, \"longitude\": 16.24},\n",
        "    {\"latitude\": 68.63, \"longitude\": 16.59},\n",
        "    {\"latitude\": 68.50, \"longitude\": 16.70},\n",
        "    {\"latitude\": 68.53, \"longitude\": 16.99},\n",
        "    {\"latitude\": 68.54, \"longitude\": 17.26},\n",
        "    {\"latitude\": 68.55, \"longitude\": 17.56},\n",
        "    {\"latitude\": 68.41, \"longitude\": 17.42},\n",
        "    {\"latitude\": 68.91, \"longitude\": 15.10},\n",
        "    {\"latitude\": 68.73, \"longitude\": 15.52},\n",
        "    {\"latitude\": 68.09, \"longitude\": 13.23},\n",
        "    {\"latitude\": 68.24, \"longitude\": 14.56},\n",
        "    {\"latitude\": 69.25, \"longitude\": 17.95}\n",
        "    ],\n",
        "    \"destinations\": [\n",
        "    {\"latitude\": 68.57, \"longitude\": 14.91},\n",
        "    {\"latitude\": 68.70, \"longitude\": 15.42},\n",
        "    {\"latitude\": 68.62, \"longitude\": 15.65},\n",
        "    {\"latitude\": 68.53, \"longitude\": 15.73},\n",
        "    {\"latitude\": 68.42, \"longitude\": 15.99},\n",
        "    {\"latitude\": 68.56, \"longitude\": 16.24},\n",
        "    {\"latitude\": 68.63, \"longitude\": 16.59},\n",
        "    {\"latitude\": 68.50, \"longitude\": 16.70},\n",
        "    {\"latitude\": 68.53, \"longitude\": 16.99},\n",
        "    {\"latitude\": 68.54, \"longitude\": 17.26},\n",
        "    {\"latitude\": 68.55, \"longitude\": 17.56},\n",
        "    {\"latitude\": 68.41, \"longitude\": 17.42},\n",
        "    {\"latitude\": 68.91, \"longitude\": 15.10},\n",
        "    {\"latitude\": 68.73, \"longitude\": 15.52},\n",
        "    {\"latitude\": 68.09, \"longitude\": 13.23},\n",
        "    {\"latitude\": 68.24, \"longitude\": 14.56},\n",
        "    {\"latitude\": 69.25, \"longitude\": 17.95}\n",
        "    ],\n",
        "    \"travelMode\": \"driving\"\n",
        "}\n",
        "\n",
        "dataset = json.dumps(data)"
      ]
    },
    {
      "cell_type": "markdown",
      "metadata": {
        "id": "PLEu2KZ8WJjf"
      },
      "source": [
        "# 2. Request\n",
        "\n",
        "See the link earlier for the structure"
      ]
    },
    {
      "cell_type": "code",
      "execution_count": 26,
      "metadata": {
        "id": "XuHf1UjBVvqz"
      },
      "outputs": [],
      "source": [
        "url = f\"https://dev.virtualearth.net/REST/v1/Routes/DistanceMatrix?key={api_key}\"\n",
        "\n",
        "response = requests.post(url, data=dataset) # HTTP request"
      ]
    },
    {
      "cell_type": "markdown",
      "metadata": {
        "id": "xWGJzdsTWVkO"
      },
      "source": [
        "# 3. Print result"
      ]
    },
    {
      "cell_type": "code",
      "execution_count": null,
      "metadata": {
        "id": "RvclWZ2EWVQ9"
      },
      "outputs": [],
      "source": [
        "if response.status_code == 200:\n",
        "    result = response.json() # need to parse to JSON response\n",
        "    results = result['resourceSets'][0]['resources'][0]['results']\n",
        "    for i in range (len(results)):\n",
        "      indexDest = results[i]['destinationIndex']\n",
        "      indexOrig = results[i]['originIndex']\n",
        "      traveDist = results[i]['travelDistance']\n",
        "      print(f\"Distance between {indexOrig+1} and {indexDest+1} is {traveDist:.2f}.\")\n",
        "else:\n",
        "    print(\"Error:\", response.status_code)"
      ]
    },
    {
      "cell_type": "markdown",
      "metadata": {},
      "source": [
        "# 4. Distance matrix"
      ]
    },
    {
      "cell_type": "code",
      "execution_count": null,
      "metadata": {},
      "outputs": [],
      "source": [
        "if response.status_code == 200:\n",
        "    result = response.json()\n",
        "    results = result['resourceSets'][0]['resources'][0]['results']\n",
        "    num_cities = 17\n",
        "    distance_matrix = np.zeros((num_cities, num_cities))\n",
        "\n",
        "    for i in range (num_cities):\n",
        "      for j in range(num_cities):\n",
        "          if i != j:\n",
        "              traveDist = results[i * num_cities + j]['travelDistance']\n",
        "              distance_matrix[i, j] = round(traveDist, 2)\n",
        "else:\n",
        "    print(\"Error:\", response.status_code)\n",
        "\n",
        "print(distance_matrix)"
      ]
    },
    {
      "cell_type": "markdown",
      "metadata": {},
      "source": [
        "# 5. Binary radius matrix\n",
        "_Reminder : the binary matrix $a_{ij}$_ has a 1 on position $i,j$ if city $d(i,j)\\leq r$ and has a 0 otherwise  "
      ]
    },
    {
      "cell_type": "code",
      "execution_count": 29,
      "metadata": {},
      "outputs": [
        {
          "name": "stdout",
          "output_type": "stream",
          "text": [
            "[[1. 1. 1. 1. 1. 1. 0. 0. 0. 0. 0. 0. 1. 1. 0. 1. 0.]\n",
            " [1. 1. 1. 1. 1. 1. 1. 1. 0. 0. 0. 0. 1. 1. 0. 1. 0.]\n",
            " [1. 1. 1. 1. 1. 1. 1. 1. 1. 0. 0. 0. 1. 1. 0. 1. 0.]\n",
            " [1. 1. 1. 1. 1. 1. 1. 1. 1. 1. 1. 0. 1. 1. 0. 1. 0.]\n",
            " [1. 1. 1. 1. 1. 1. 1. 1. 1. 1. 1. 1. 1. 1. 0. 1. 0.]\n",
            " [1. 1. 1. 1. 1. 1. 1. 1. 1. 1. 1. 1. 1. 1. 0. 1. 0.]\n",
            " [0. 1. 1. 1. 1. 1. 1. 1. 1. 1. 1. 1. 0. 1. 0. 0. 0.]\n",
            " [0. 1. 1. 1. 1. 1. 1. 1. 1. 1. 1. 1. 0. 1. 0. 0. 0.]\n",
            " [0. 0. 1. 1. 1. 1. 1. 1. 1. 1. 1. 1. 0. 0. 0. 0. 0.]\n",
            " [0. 0. 0. 1. 1. 1. 1. 1. 1. 1. 1. 1. 0. 0. 0. 0. 0.]\n",
            " [0. 0. 0. 1. 1. 1. 1. 1. 1. 1. 1. 1. 0. 0. 0. 0. 0.]\n",
            " [0. 0. 0. 0. 1. 1. 1. 1. 1. 1. 1. 1. 0. 0. 0. 0. 0.]\n",
            " [1. 1. 1. 1. 1. 1. 0. 0. 0. 0. 0. 0. 1. 1. 0. 0. 0.]\n",
            " [1. 1. 1. 1. 1. 1. 1. 1. 0. 0. 0. 0. 1. 1. 0. 1. 0.]\n",
            " [0. 0. 0. 0. 0. 0. 0. 0. 0. 0. 0. 0. 0. 0. 1. 1. 0.]\n",
            " [1. 1. 1. 1. 1. 1. 0. 0. 0. 0. 0. 0. 0. 1. 1. 1. 0.]\n",
            " [0. 0. 0. 0. 0. 0. 0. 0. 0. 0. 0. 0. 0. 0. 0. 0. 1.]]\n"
          ]
        }
      ],
      "source": [
        "def create_radius_matrix(D, r):\n",
        "    RM = np.zeros_like(D)\n",
        "    for i in range(D.shape[0]):\n",
        "        for j in range(D.shape[1]):\n",
        "            if D[i, j] <= r:\n",
        "                RM[i, j] = 1\n",
        "    return RM\n",
        "\n",
        "R = 130  # example radius used in Hao Yu's paper\n",
        "radius_matrix = create_radius_matrix(distance_matrix, R)\n",
        "print(radius_matrix)"
      ]
    }
  ],
  "metadata": {
    "colab": {
      "provenance": []
    },
    "kernelspec": {
      "display_name": "Python 3",
      "name": "python3"
    },
    "language_info": {
      "codemirror_mode": {
        "name": "ipython",
        "version": 3
      },
      "file_extension": ".py",
      "mimetype": "text/x-python",
      "name": "python",
      "nbconvert_exporter": "python",
      "pygments_lexer": "ipython3",
      "version": "3.10.13"
    }
  },
  "nbformat": 4,
  "nbformat_minor": 0
}
