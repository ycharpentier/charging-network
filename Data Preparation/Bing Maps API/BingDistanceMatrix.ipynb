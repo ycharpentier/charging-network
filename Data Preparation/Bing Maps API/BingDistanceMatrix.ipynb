{
  "cells": [
    {
      "cell_type": "code",
      "execution_count": 57,
      "metadata": {
        "id": "0zsCFT_TG0CA"
      },
      "outputs": [],
      "source": [
        "import urllib.request\n",
        "import requests\n",
        "import json"
      ]
    },
    {
      "cell_type": "code",
      "execution_count": 59,
      "metadata": {
        "id": "ZMglYu4MG3w-"
      },
      "outputs": [],
      "source": [
        "api_key = \"AimWLdnm8TDPtAdj_QMmw4UCDjw4POCv0aQDKk7nsW4PVacVWv0d3WqI44eUlCJS\""
      ]
    },
    {
      "cell_type": "markdown",
      "metadata": {
        "id": "1pcSK82YVXdY"
      },
      "source": [
        "# 1. Set up data and convert to JSON\n",
        "\n",
        "https://learn.microsoft.com/en-us/bingmaps/rest-services/routes/calculate-a-distance-matrix?redirectedfrom=MSDN\n",
        "\n",
        "(link to API documentation)"
      ]
    },
    {
      "cell_type": "code",
      "execution_count": 56,
      "metadata": {
        "colab": {
          "base_uri": "https://localhost:8080/"
        },
        "id": "Qd0LfAxpKk8Y",
        "outputId": "c0bee93f-6250-4235-a474-ba6540e884c1"
      },
      "outputs": [
        {
          "name": "stdout",
          "output_type": "stream",
          "text": [
            "Distance between 1 and 1 is 281.45.\n",
            "Distance between 1 and 2 is 23.62.\n",
            "Distance between 2 and 1 is 298.32.\n",
            "Distance between 2 and 2 is 30.55.\n",
            "Distance between 3 and 1 is 286.05.\n",
            "Distance between 3 and 2 is 18.29.\n"
          ]
        }
      ],
      "source": [
        "data = {\n",
        "    \"origins\": [{\n",
        "        \"latitude\": 47.6044,\n",
        "        \"longitude\": -122.3345\n",
        "    },\n",
        "    {\n",
        "        \"latitude\": 47.6731,\n",
        "        \"longitude\": -122.1185\n",
        "    },\n",
        "    {\n",
        "        \"latitude\": 47.6149,\n",
        "        \"longitude\": -122.1936\n",
        "    }],\n",
        "    \"destinations\": [{\n",
        "        \"latitude\": 45.5347,\n",
        "        \"longitude\": -122.6231\n",
        "    },\n",
        "    {\n",
        "        \"latitude\": 47.4747,\n",
        "        \"longitude\": -122.2057\n",
        "    }],\n",
        "    \"travelMode\": \"driving\"\n",
        "}\n",
        "\n",
        "dataset = json.dumps(data)"
      ]
    },
    {
      "cell_type": "markdown",
      "metadata": {
        "id": "PLEu2KZ8WJjf"
      },
      "source": [
        "# 2. Request"
      ]
    },
    {
      "cell_type": "code",
      "execution_count": null,
      "metadata": {
        "id": "XuHf1UjBVvqz"
      },
      "outputs": [],
      "source": [
        "# Request (see link for structure...)\n",
        "url = f\"https://dev.virtualearth.net/REST/v1/Routes/DistanceMatrix?key={api_key}\"\n",
        "\n",
        "# Send the HTTP request\n",
        "response = requests.post(url, data=dataset)"
      ]
    },
    {
      "cell_type": "markdown",
      "metadata": {
        "id": "xWGJzdsTWVkO"
      },
      "source": [
        "# 3. Print result"
      ]
    },
    {
      "cell_type": "code",
      "execution_count": null,
      "metadata": {
        "id": "RvclWZ2EWVQ9"
      },
      "outputs": [],
      "source": [
        "# Check if the request was successful\n",
        "if response.status_code == 200:\n",
        "    # Parse the JSON response\n",
        "    result = response.json()\n",
        "    results = result['resourceSets'][0]['resources'][0]['results']\n",
        "    for i in range (len(results)):\n",
        "      indexDest = results[i]['destinationIndex']\n",
        "      indexOrig = results[i]['originIndex']\n",
        "      traveDist = results[i]['travelDistance']\n",
        "      print(f\"Distance between {indexOrig+1} and {indexDest+1} is {traveDist:.2f}.\")\n",
        "else:\n",
        "    print(\"Error:\", response.status_code)"
      ]
    }
  ],
  "metadata": {
    "colab": {
      "provenance": []
    },
    "kernelspec": {
      "display_name": "Python 3",
      "name": "python3"
    },
    "language_info": {
      "name": "python"
    }
  },
  "nbformat": 4,
  "nbformat_minor": 0
}
